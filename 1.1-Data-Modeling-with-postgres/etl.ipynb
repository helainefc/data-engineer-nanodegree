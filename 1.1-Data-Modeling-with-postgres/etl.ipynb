{
 "cells": [
  {
   "cell_type": "markdown",
   "metadata": {},
   "source": [
    "# Proceso ETL "
   ]
  },
  {
   "cell_type": "code",
   "execution_count": 31,
   "metadata": {},
   "outputs": [],
   "source": [
    "import glob\n",
    "import pandas as pd\n",
    "from models.song import Song\n",
    "from models.artist import Artist\n",
    "from models.songPlay import SongPlay\n",
    "from models.time import Time\n",
    "from models.user import User\n",
    "import numpy as np\n",
    "from bd import Base,session,engine\n",
    "from sqlalchemy import exc"
   ]
  },
  {
   "cell_type": "markdown",
   "metadata": {},
   "source": [
    "# Lectura de Archivos\n",
    "* La función get_nameFiles obtiene los nombres de todos los archivos en la ruta enviada"
   ]
  },
  {
   "cell_type": "code",
   "execution_count": 32,
   "metadata": {},
   "outputs": [],
   "source": [
    "#Function get all files names from path \n",
    "def get_nameFiles(path):\n",
    "    files = [f for f in glob.glob(path + \"**/*.json\", recursive=True)]\n",
    "    return files"
   ]
  },
  {
   "cell_type": "markdown",
   "metadata": {},
   "source": [
    "* La función files_To_DataFrame concentra en un DataFrame el contenido de todos los archivos"
   ]
  },
  {
   "cell_type": "code",
   "execution_count": 33,
   "metadata": {},
   "outputs": [],
   "source": [
    "#Function \n",
    "def files_To_DataFrame(Filejson):\n",
    "    df_full= pd.DataFrame()\n",
    "    for file in Filejson:\n",
    "        #Read file\n",
    "        df = pd.read_json(file,lines=True,encoding='utf-8') \n",
    "        #Data Frame\n",
    "        df_full = df_full.append(df)\n",
    "    return df_full"
   ]
  },
  {
   "cell_type": "markdown",
   "metadata": {},
   "source": [
    "## Se procesan los archivos 'data/song_data/'"
   ]
  },
  {
   "cell_type": "markdown",
   "metadata": {},
   "source": [
    "Se obtiene los nombres y ruta de todos los archivos que se encuentran en 'data/song_data/'"
   ]
  },
  {
   "cell_type": "code",
   "execution_count": 34,
   "metadata": {},
   "outputs": [
    {
     "output_type": "execute_result",
     "data": {
      "text/plain": "'data/song_data/A/B/B/TRABBVJ128F92F7EAA.json'"
     },
     "metadata": {},
     "execution_count": 34
    }
   ],
   "source": [
    "#Se obtienen los nombre de todos los archivos los archivos\n",
    "files = get_nameFiles('data/song_data/')\n",
    "files[0]"
   ]
  },
  {
   "cell_type": "markdown",
   "metadata": {},
   "source": [
    "Se obtiene el contenido de cada archivo y se guardan en un dataFrame"
   ]
  },
  {
   "cell_type": "code",
   "execution_count": 35,
   "metadata": {},
   "outputs": [
    {
     "output_type": "execute_result",
     "data": {
      "text/plain": "   num_songs           artist_id  artist_latitude  artist_longitude  \\\n0          1  AREDL271187FB40F44              NaN               NaN   \n\n  artist_location   artist_name             song_id  \\\n0                  Soul Mekanik  SOPEGZN12AB0181B3D   \n\n                              title  duration  year  \n0  Get Your Head Stuck On Your Neck  45.66159     0  ",
      "text/html": "<div>\n<style scoped>\n    .dataframe tbody tr th:only-of-type {\n        vertical-align: middle;\n    }\n\n    .dataframe tbody tr th {\n        vertical-align: top;\n    }\n\n    .dataframe thead th {\n        text-align: right;\n    }\n</style>\n<table border=\"1\" class=\"dataframe\">\n  <thead>\n    <tr style=\"text-align: right;\">\n      <th></th>\n      <th>num_songs</th>\n      <th>artist_id</th>\n      <th>artist_latitude</th>\n      <th>artist_longitude</th>\n      <th>artist_location</th>\n      <th>artist_name</th>\n      <th>song_id</th>\n      <th>title</th>\n      <th>duration</th>\n      <th>year</th>\n    </tr>\n  </thead>\n  <tbody>\n    <tr>\n      <th>0</th>\n      <td>1</td>\n      <td>AREDL271187FB40F44</td>\n      <td>NaN</td>\n      <td>NaN</td>\n      <td></td>\n      <td>Soul Mekanik</td>\n      <td>SOPEGZN12AB0181B3D</td>\n      <td>Get Your Head Stuck On Your Neck</td>\n      <td>45.66159</td>\n      <td>0</td>\n    </tr>\n  </tbody>\n</table>\n</div>"
     },
     "metadata": {},
     "execution_count": 35
    }
   ],
   "source": [
    "#Se crea un dataframe con la información de todos los archivos\n",
    "df_song_data = files_To_DataFrame(files)\n",
    "df_song_data.head(n=1)"
   ]
  },
  {
   "cell_type": "markdown",
   "metadata": {},
   "source": [
    "# Tablas de hechos y de dimensiones\n",
    "En esta parte, se obtienen y limpian los datos para las tablas:\n",
    "* **song** (dimensiones)\n",
    "* **artist** (dimensiones)\n",
    "* **time_format** (dimensiones)\n",
    "* **user** (dimensiones)\n",
    "* **song_Play** (hechos)"
   ]
  },
  {
   "cell_type": "markdown",
   "metadata": {},
   "source": [
    "1.Se obtienen los datos para la tabla **song**. Se eliminan los duplicados"
   ]
  },
  {
   "cell_type": "code",
   "execution_count": 36,
   "metadata": {},
   "outputs": [],
   "source": [
    "#Se obtienen los datos para la tabla SONG\n",
    "df_song = df_song_data[['song_id','artist_id', 'title','year', 'duration']].dropna(subset=['song_id']).drop_duplicates(['song_id'])"
   ]
  },
  {
   "cell_type": "code",
   "execution_count": 37,
   "metadata": {},
   "outputs": [
    {
     "output_type": "execute_result",
     "data": {
      "text/plain": "              song_id           artist_id                             title  \\\n0  SOPEGZN12AB0181B3D  AREDL271187FB40F44  Get Your Head Stuck On Your Neck   \n\n   year  duration  \n0     0  45.66159  ",
      "text/html": "<div>\n<style scoped>\n    .dataframe tbody tr th:only-of-type {\n        vertical-align: middle;\n    }\n\n    .dataframe tbody tr th {\n        vertical-align: top;\n    }\n\n    .dataframe thead th {\n        text-align: right;\n    }\n</style>\n<table border=\"1\" class=\"dataframe\">\n  <thead>\n    <tr style=\"text-align: right;\">\n      <th></th>\n      <th>song_id</th>\n      <th>artist_id</th>\n      <th>title</th>\n      <th>year</th>\n      <th>duration</th>\n    </tr>\n  </thead>\n  <tbody>\n    <tr>\n      <th>0</th>\n      <td>SOPEGZN12AB0181B3D</td>\n      <td>AREDL271187FB40F44</td>\n      <td>Get Your Head Stuck On Your Neck</td>\n      <td>0</td>\n      <td>45.66159</td>\n    </tr>\n  </tbody>\n</table>\n</div>"
     },
     "metadata": {},
     "execution_count": 37
    }
   ],
   "source": [
    "df_song.head(n=1)"
   ]
  },
  {
   "cell_type": "markdown",
   "metadata": {},
   "source": [
    "2. Se obtiene los para la tabla **artist**.Se eliminan los duplicados"
   ]
  },
  {
   "cell_type": "code",
   "execution_count": 38,
   "metadata": {},
   "outputs": [],
   "source": [
    "#Se obtienen los datos para la tabla ARTIST\n",
    "df_artist = df_song_data[['artist_id', 'artist_name', 'artist_location', 'artist_latitude', 'artist_longitude']].dropna(subset=['artist_id']).drop_duplicates(['artist_id'])\n",
    "df_artist = df_artist.rename(columns={'artist_name': 'name', 'artist_location': 'location', 'artist_latitude': 'latitude', 'artist_longitude': 'longitude'})"
   ]
  },
  {
   "cell_type": "code",
   "execution_count": 39,
   "metadata": {},
   "outputs": [
    {
     "output_type": "execute_result",
     "data": {
      "text/plain": "            artist_id          name location  latitude  longitude\n0  AREDL271187FB40F44  Soul Mekanik                NaN        NaN",
      "text/html": "<div>\n<style scoped>\n    .dataframe tbody tr th:only-of-type {\n        vertical-align: middle;\n    }\n\n    .dataframe tbody tr th {\n        vertical-align: top;\n    }\n\n    .dataframe thead th {\n        text-align: right;\n    }\n</style>\n<table border=\"1\" class=\"dataframe\">\n  <thead>\n    <tr style=\"text-align: right;\">\n      <th></th>\n      <th>artist_id</th>\n      <th>name</th>\n      <th>location</th>\n      <th>latitude</th>\n      <th>longitude</th>\n    </tr>\n  </thead>\n  <tbody>\n    <tr>\n      <th>0</th>\n      <td>AREDL271187FB40F44</td>\n      <td>Soul Mekanik</td>\n      <td></td>\n      <td>NaN</td>\n      <td>NaN</td>\n    </tr>\n  </tbody>\n</table>\n</div>"
     },
     "metadata": {},
     "execution_count": 39
    }
   ],
   "source": [
    "df_artist.head(n=1)"
   ]
  },
  {
   "cell_type": "markdown",
   "metadata": {},
   "source": [
    "## Se procesan los archivos 'data/log_data/'"
   ]
  },
  {
   "cell_type": "markdown",
   "metadata": {},
   "source": [
    "Se obtiene los nombres y ruta de todos los archivos que se encuentran en 'data/song_data/'"
   ]
  },
  {
   "cell_type": "code",
   "execution_count": 40,
   "metadata": {},
   "outputs": [],
   "source": [
    "#Se obtienen los nombre de todos los archivos los archivos\n",
    "files = get_nameFiles('data/log_data/')"
   ]
  },
  {
   "cell_type": "code",
   "execution_count": 41,
   "metadata": {},
   "outputs": [
    {
     "output_type": "execute_result",
     "data": {
      "text/plain": "'data/log_data/2018/11/2018-11-22-events.json'"
     },
     "metadata": {},
     "execution_count": 41
    }
   ],
   "source": [
    "files[0]"
   ]
  },
  {
   "cell_type": "markdown",
   "metadata": {},
   "source": [
    "Se obtiene el contenido de cada archivo y se guardan en un dataFrame"
   ]
  },
  {
   "cell_type": "code",
   "execution_count": 42,
   "metadata": {},
   "outputs": [],
   "source": [
    "#Se crea un dataframe con la información de todos los archivos\n",
    "df_long_data = files_To_DataFrame(files)\n",
    "df_long_data = df_long_data[df_long_data['page'] == 'NextSong']"
   ]
  },
  {
   "cell_type": "code",
   "execution_count": 43,
   "metadata": {},
   "outputs": [
    {
     "output_type": "execute_result",
     "data": {
      "text/plain": "                artist       auth firstName gender  itemInSession lastName  \\\n0  Dee Dee Bridgewater  Logged In      Lily      F             38     Koch   \n\n      length level                            location method      page  \\\n0  318.64118  paid  Chicago-Naperville-Elgin, IL-IN-WI    PUT  NextSong   \n\n   registration  sessionId            song  status             ts  \\\n0  1.541048e+12        818  La Vie En Rose     200  1542845032796   \n\n                                           userAgent userId  \n0  \"Mozilla/5.0 (X11; Linux x86_64) AppleWebKit/5...     15  ",
      "text/html": "<div>\n<style scoped>\n    .dataframe tbody tr th:only-of-type {\n        vertical-align: middle;\n    }\n\n    .dataframe tbody tr th {\n        vertical-align: top;\n    }\n\n    .dataframe thead th {\n        text-align: right;\n    }\n</style>\n<table border=\"1\" class=\"dataframe\">\n  <thead>\n    <tr style=\"text-align: right;\">\n      <th></th>\n      <th>artist</th>\n      <th>auth</th>\n      <th>firstName</th>\n      <th>gender</th>\n      <th>itemInSession</th>\n      <th>lastName</th>\n      <th>length</th>\n      <th>level</th>\n      <th>location</th>\n      <th>method</th>\n      <th>page</th>\n      <th>registration</th>\n      <th>sessionId</th>\n      <th>song</th>\n      <th>status</th>\n      <th>ts</th>\n      <th>userAgent</th>\n      <th>userId</th>\n    </tr>\n  </thead>\n  <tbody>\n    <tr>\n      <th>0</th>\n      <td>Dee Dee Bridgewater</td>\n      <td>Logged In</td>\n      <td>Lily</td>\n      <td>F</td>\n      <td>38</td>\n      <td>Koch</td>\n      <td>318.64118</td>\n      <td>paid</td>\n      <td>Chicago-Naperville-Elgin, IL-IN-WI</td>\n      <td>PUT</td>\n      <td>NextSong</td>\n      <td>1.541048e+12</td>\n      <td>818</td>\n      <td>La Vie En Rose</td>\n      <td>200</td>\n      <td>1542845032796</td>\n      <td>\"Mozilla/5.0 (X11; Linux x86_64) AppleWebKit/5...</td>\n      <td>15</td>\n    </tr>\n  </tbody>\n</table>\n</div>"
     },
     "metadata": {},
     "execution_count": 43
    }
   ],
   "source": [
    "df_long_data.head(n=1)"
   ]
  },
  {
   "cell_type": "markdown",
   "metadata": {},
   "source": [
    "3. Se obtiene los para la tabla **time_format**.Se eliminan los duplicados"
   ]
  },
  {
   "cell_type": "code",
   "execution_count": 44,
   "metadata": {},
   "outputs": [],
   "source": [
    "#Se obtienen los datos para la tabla TIME_FORMAT\n",
    "ts = pd.to_datetime(df_long_data['ts'], unit='ms')\n",
    "timeFormat = (df_long_data['ts'].values, ts.dt.hour.values, ts.dt.day.values, ts.dt.week.values, ts.dt.month.values, ts.dt.year.values, ts.dt.weekday.values)\n",
    "column_labels = ['start_time', 'hour', 'day', 'week', 'month', 'year', 'weekday']\n",
    "df_time_format= pd.DataFrame(data=list(zip(*timeFormat)), columns=column_labels)\n",
    "df_time_format = df_time_format.drop_duplicates(['start_time'])"
   ]
  },
  {
   "cell_type": "code",
   "execution_count": 45,
   "metadata": {},
   "outputs": [
    {
     "output_type": "execute_result",
     "data": {
      "text/plain": "      start_time  hour  day  week  month  year  weekday\n0  1542845032796     0   22    47     11  2018        3",
      "text/html": "<div>\n<style scoped>\n    .dataframe tbody tr th:only-of-type {\n        vertical-align: middle;\n    }\n\n    .dataframe tbody tr th {\n        vertical-align: top;\n    }\n\n    .dataframe thead th {\n        text-align: right;\n    }\n</style>\n<table border=\"1\" class=\"dataframe\">\n  <thead>\n    <tr style=\"text-align: right;\">\n      <th></th>\n      <th>start_time</th>\n      <th>hour</th>\n      <th>day</th>\n      <th>week</th>\n      <th>month</th>\n      <th>year</th>\n      <th>weekday</th>\n    </tr>\n  </thead>\n  <tbody>\n    <tr>\n      <th>0</th>\n      <td>1542845032796</td>\n      <td>0</td>\n      <td>22</td>\n      <td>47</td>\n      <td>11</td>\n      <td>2018</td>\n      <td>3</td>\n    </tr>\n  </tbody>\n</table>\n</div>"
     },
     "metadata": {},
     "execution_count": 45
    }
   ],
   "source": [
    "df_time_format.head(n=1)"
   ]
  },
  {
   "cell_type": "markdown",
   "metadata": {},
   "source": [
    "4. Se obtiene los para la tabla **user**.Se eliminan los duplicados"
   ]
  },
  {
   "cell_type": "code",
   "execution_count": 46,
   "metadata": {},
   "outputs": [],
   "source": [
    "#Se obtiene los datos para la tabla USER\n",
    "convert_dict = {'user_id': int } \n",
    "df_user = df_long_data[['userId', 'firstName', 'lastName', 'gender', 'level']].rename(columns={'userId': 'user_id'}).replace('', np.nan).dropna(subset=['user_id'])\n",
    "df_user = df_user.astype(convert_dict)\n",
    "df_user = df_user.drop_duplicates(['user_id'])"
   ]
  },
  {
   "cell_type": "code",
   "execution_count": 47,
   "metadata": {},
   "outputs": [
    {
     "output_type": "execute_result",
     "data": {
      "text/plain": "   user_id firstName lastName gender level\n0       15      Lily     Koch      F  paid",
      "text/html": "<div>\n<style scoped>\n    .dataframe tbody tr th:only-of-type {\n        vertical-align: middle;\n    }\n\n    .dataframe tbody tr th {\n        vertical-align: top;\n    }\n\n    .dataframe thead th {\n        text-align: right;\n    }\n</style>\n<table border=\"1\" class=\"dataframe\">\n  <thead>\n    <tr style=\"text-align: right;\">\n      <th></th>\n      <th>user_id</th>\n      <th>firstName</th>\n      <th>lastName</th>\n      <th>gender</th>\n      <th>level</th>\n    </tr>\n  </thead>\n  <tbody>\n    <tr>\n      <th>0</th>\n      <td>15</td>\n      <td>Lily</td>\n      <td>Koch</td>\n      <td>F</td>\n      <td>paid</td>\n    </tr>\n  </tbody>\n</table>\n</div>"
     },
     "metadata": {},
     "execution_count": 47
    }
   ],
   "source": [
    "df_user.head(n=1)"
   ]
  },
  {
   "cell_type": "markdown",
   "metadata": {},
   "source": [
    "5. Se obtiene los para la tabla **song_play**.Se hace un JOIN para obtener los identificadores user_id y artist_id"
   ]
  },
  {
   "cell_type": "code",
   "execution_count": 48,
   "metadata": {},
   "outputs": [],
   "source": [
    "df_song_data_aux = df_song_data[['artist_id','song_id', 'title','artist_name']].rename(columns={'title': 'song', 'artist_name': 'artist'})\n",
    "df_long_data_aux = df_long_data[['userId', 'sessionId','userAgent','level','location','ts','artist','song']]"
   ]
  },
  {
   "cell_type": "code",
   "execution_count": 49,
   "metadata": {},
   "outputs": [],
   "source": [
    "df_song_play_join = pd.merge(df_long_data_aux, df_song_data_aux, on=['song','artist'], how='left')\n",
    "df_song_play_join = df_song_play_join.rename(columns={'ts': 'start_time', 'sessionId': 'session_id','userAgent': 'user_agent','userId': 'user_id'}).replace('',0)"
   ]
  },
  {
   "cell_type": "code",
   "execution_count": 50,
   "metadata": {},
   "outputs": [],
   "source": [
    "df_song_play_join['songplay_id'] = df_song_play_join.index"
   ]
  },
  {
   "cell_type": "code",
   "execution_count": 51,
   "metadata": {},
   "outputs": [],
   "source": [
    "df_song_play_join = df_song_play_join.drop(['song', 'artist'], axis=1)\n"
   ]
  },
  {
   "cell_type": "code",
   "execution_count": 52,
   "metadata": {},
   "outputs": [
    {
     "output_type": "execute_result",
     "data": {
      "text/plain": "  user_id  session_id                                         user_agent  \\\n0      15         818  \"Mozilla/5.0 (X11; Linux x86_64) AppleWebKit/5...   \n\n  level                            location     start_time artist_id song_id  \\\n0  paid  Chicago-Naperville-Elgin, IL-IN-WI  1542845032796       NaN     NaN   \n\n   songplay_id  \n0            0  ",
      "text/html": "<div>\n<style scoped>\n    .dataframe tbody tr th:only-of-type {\n        vertical-align: middle;\n    }\n\n    .dataframe tbody tr th {\n        vertical-align: top;\n    }\n\n    .dataframe thead th {\n        text-align: right;\n    }\n</style>\n<table border=\"1\" class=\"dataframe\">\n  <thead>\n    <tr style=\"text-align: right;\">\n      <th></th>\n      <th>user_id</th>\n      <th>session_id</th>\n      <th>user_agent</th>\n      <th>level</th>\n      <th>location</th>\n      <th>start_time</th>\n      <th>artist_id</th>\n      <th>song_id</th>\n      <th>songplay_id</th>\n    </tr>\n  </thead>\n  <tbody>\n    <tr>\n      <th>0</th>\n      <td>15</td>\n      <td>818</td>\n      <td>\"Mozilla/5.0 (X11; Linux x86_64) AppleWebKit/5...</td>\n      <td>paid</td>\n      <td>Chicago-Naperville-Elgin, IL-IN-WI</td>\n      <td>1542845032796</td>\n      <td>NaN</td>\n      <td>NaN</td>\n      <td>0</td>\n    </tr>\n  </tbody>\n</table>\n</div>"
     },
     "metadata": {},
     "execution_count": 52
    }
   ],
   "source": [
    "df_song_play_join.head(n=1)"
   ]
  },
  {
   "cell_type": "markdown",
   "metadata": {},
   "source": [
    "# Se crean los objetos para ser guardados en BD\n",
    "* En la carpeta models, se encuentran las clases que corresponde al mapeo de las tablas \n",
    "* A partir del dataFrame se crea una lista de objetos"
   ]
  },
  {
   "cell_type": "code",
   "execution_count": 53,
   "metadata": {},
   "outputs": [],
   "source": [
    "listObjectSong       = [Song(**kwargs) for kwargs in df_song.to_dict(orient='records')]\n",
    "listObjectArtist     = [Artist(**kwargs) for kwargs in df_artist.to_dict(orient='records')]\n",
    "listObjectTime       = [Time(**kwargs) for kwargs in df_time_format.to_dict(orient='records')]\n",
    "listObjectUser       = [User(**kwargs) for kwargs in df_user.to_dict(orient='records')]\n",
    "listObjectSongPlay   = [SongPlay(**kwargs) for kwargs in df_song_play_join.to_dict(orient='records')]"
   ]
  },
  {
   "cell_type": "code",
   "execution_count": 54,
   "metadata": {},
   "outputs": [
    {
     "output_type": "execute_result",
     "data": {
      "text/plain": "<Song(song_id='SOPEGZN12AB0181B3D', title='Get Your Head Stuck On Your Neck', artist_id='AREDL271187FB40F44', year=0, duration=45.66159)>"
     },
     "metadata": {},
     "execution_count": 54
    }
   ],
   "source": [
    "listObjectSong[0]"
   ]
  },
  {
   "cell_type": "markdown",
   "metadata": {},
   "source": [
    "# Se  crean las tablas"
   ]
  },
  {
   "cell_type": "markdown",
   "metadata": {},
   "source": [
    "Por medio de la librería **SQLAlchemy** se eliminan las tablas si es que existen y se crean nuevamente."
   ]
  },
  {
   "cell_type": "code",
   "execution_count": 55,
   "metadata": {},
   "outputs": [],
   "source": [
    "Base.metadata.drop_all(engine)\n",
    "Base.metadata.create_all(engine)"
   ]
  },
  {
   "cell_type": "markdown",
   "metadata": {},
   "source": [
    "Se guardan los registros con bulk_save_objets en PostgreSQL"
   ]
  },
  {
   "cell_type": "code",
   "execution_count": 56,
   "metadata": {},
   "outputs": [],
   "source": [
    "try:\n",
    "    session.bulk_save_objects(listObjectSong)\n",
    "    session.bulk_save_objects(listObjectArtist)\n",
    "    session.bulk_save_objects(listObjectTime)\n",
    "    session.bulk_save_objects(listObjectUser)\n",
    "    session.bulk_save_objects(listObjectSongPlay)\n",
    "    session.commit()\n",
    "    session.close()\n",
    "except exc.SQLAlchemyError as ex:\n",
    "    session.close()\n",
    "    print('Exeption:', ex)"
   ]
  }
 ],
 "metadata": {
  "kernelspec": {
   "display_name": "Python 3",
   "language": "python",
   "name": "python3"
  },
  "language_info": {
   "codemirror_mode": {
    "name": "ipython",
    "version": 3
   },
   "file_extension": ".py",
   "mimetype": "text/x-python",
   "name": "python",
   "nbconvert_exporter": "python",
   "pygments_lexer": "ipython3",
   "version": "3.7.6-final"
  }
 },
 "nbformat": 4,
 "nbformat_minor": 4
}