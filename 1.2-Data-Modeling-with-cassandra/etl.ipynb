{
 "nbformat": 4,
 "nbformat_minor": 2,
 "metadata": {
  "language_info": {
   "name": "python",
   "codemirror_mode": {
    "name": "ipython",
    "version": 3
   },
   "version": "3.7.6-final"
  },
  "orig_nbformat": 2,
  "file_extension": ".py",
  "mimetype": "text/x-python",
  "name": "python",
  "npconvert_exporter": "python",
  "pygments_lexer": "ipython3",
  "version": 3,
  "kernelspec": {
   "name": "python3",
   "display_name": "Python 3"
  }
 },
 "cells": [
  {
   "cell_type": "code",
   "execution_count": 1,
   "metadata": {},
   "outputs": [],
   "source": [
    "import glob\n",
    "import pandas as pd\n",
    "import numpy as np\n",
    "import logging\n",
    "from cassandra.cluster import Cluster\n",
    "from cql_queries import *"
   ]
  },
  {
   "cell_type": "code",
   "execution_count": 2,
   "metadata": {},
   "outputs": [],
   "source": [
    "#Función que obtiene todos los nombres de los archivos\n",
    "def get_nameFiles(path):\n",
    "    files = [f for f in glob.glob(path + \"**/*.json\", recursive=True)]\n",
    "    return files"
   ]
  },
  {
   "cell_type": "code",
   "execution_count": 3,
   "metadata": {},
   "outputs": [],
   "source": [
    "#Función que conviete el contenido de todos los archivos en un dataFrame\n",
    "def files_To_DataFrame(Filejson):\n",
    "    df_full= pd.DataFrame()\n",
    "    for file in Filejson:\n",
    "        #Read file\n",
    "        df = pd.read_json(file,lines=True,encoding='utf-8') \n",
    "        #Data Frame\n",
    "        df_full = df_full.append(df)\n",
    "    return df_full"
   ]
  },
  {
   "cell_type": "code",
   "execution_count": 4,
   "metadata": {},
   "outputs": [],
   "source": [
    "# Función que crea la conexión con Cassandra\n",
    "def cassandra_connection():\n",
    "    \"\"\"\n",
    "    Connection object for Cassandra\n",
    "    :return: session, cluster\n",
    "    \"\"\"\n",
    "    cluster = Cluster(['127.0.0.1'], port=9042)\n",
    "    session = cluster.connect()\n",
    "    session.execute(\"\"\"CREATE KEYSPACE IF NOT EXISTS songs WITH REPLICATION ={ 'class' : 'SimpleStrategy', 'replication_factor' : 1 }\"\"\")\n",
    "    session.set_keyspace('songs')\n",
    "    return session, cluster"
   ]
  },
  {
   "cell_type": "code",
   "execution_count": 5,
   "metadata": {},
   "outputs": [],
   "source": [
    "# Función que inserta los registros \n",
    "def insert_row(df,prepared):\n",
    "    for i, row in df.iterrows():\n",
    "        try:\n",
    "            session.execute(prepared,list(row))\n",
    "        except Exception as e:\n",
    "            print('The cassandra error: {}'.format(e))\n",
    "            break  "
   ]
  },
  {
   "cell_type": "code",
   "execution_count": 6,
   "metadata": {},
   "outputs": [],
   "source": [
    "#Se obtienen los nombre de todos los archivos los archivos\n",
    "files = get_nameFiles('data/log_data/')"
   ]
  },
  {
   "cell_type": "code",
   "execution_count": 7,
   "metadata": {},
   "outputs": [],
   "source": [
    "#Se crea un dataframe con la información de todos los archivos\n",
    "df_long_data = files_To_DataFrame(files)"
   ]
  },
  {
   "cell_type": "code",
   "execution_count": 8,
   "metadata": {},
   "outputs": [],
   "source": [
    "#Datos para tabla song_by_session_table\n",
    "df_by_session = df_long_data[['sessionId','itemInSession','artist','song','length']]\n",
    "df_by_session = df_by_session.drop_duplicates(['sessionId','itemInSession']).dropna(subset=['sessionId','itemInSession'])"
   ]
  },
  {
   "cell_type": "code",
   "execution_count": 10,
   "metadata": {},
   "outputs": [
    {
     "output_type": "execute_result",
     "data": {
      "text/plain": "   sessionId  itemInSession               artist            song     length\n0        818             38  Dee Dee Bridgewater  La Vie En Rose  318.64118",
      "text/html": "<div>\n<style scoped>\n    .dataframe tbody tr th:only-of-type {\n        vertical-align: middle;\n    }\n\n    .dataframe tbody tr th {\n        vertical-align: top;\n    }\n\n    .dataframe thead th {\n        text-align: right;\n    }\n</style>\n<table border=\"1\" class=\"dataframe\">\n  <thead>\n    <tr style=\"text-align: right;\">\n      <th></th>\n      <th>sessionId</th>\n      <th>itemInSession</th>\n      <th>artist</th>\n      <th>song</th>\n      <th>length</th>\n    </tr>\n  </thead>\n  <tbody>\n    <tr>\n      <th>0</th>\n      <td>818</td>\n      <td>38</td>\n      <td>Dee Dee Bridgewater</td>\n      <td>La Vie En Rose</td>\n      <td>318.64118</td>\n    </tr>\n  </tbody>\n</table>\n</div>"
     },
     "metadata": {},
     "execution_count": 10
    }
   ],
   "source": [
    "df_by_session.head(n=1)"
   ]
  },
  {
   "cell_type": "code",
   "execution_count": 11,
   "metadata": {},
   "outputs": [],
   "source": [
    "#Datos para tabla song_user_by_user_session_table\n",
    "convert_dict = {'userId': int } \n",
    "df_by_user_session = df_long_data[['userId','sessionId','itemInSession','artist','song','firstName']]\n",
    "df_by_user_session = df_by_user_session.replace('', np.nan).dropna(subset=['userId','sessionId','itemInSession'])\n",
    "df_by_user_session = df_by_user_session.drop_duplicates(['userId','sessionId','itemInSession'])\n",
    "df_by_user_session = df_by_user_session.astype(convert_dict)"
   ]
  },
  {
   "cell_type": "code",
   "execution_count": 12,
   "metadata": {},
   "outputs": [
    {
     "output_type": "execute_result",
     "data": {
      "text/plain": "   userId  sessionId  itemInSession               artist            song  \\\n0      15        818             38  Dee Dee Bridgewater  La Vie En Rose   \n\n  firstName  \n0      Lily  ",
      "text/html": "<div>\n<style scoped>\n    .dataframe tbody tr th:only-of-type {\n        vertical-align: middle;\n    }\n\n    .dataframe tbody tr th {\n        vertical-align: top;\n    }\n\n    .dataframe thead th {\n        text-align: right;\n    }\n</style>\n<table border=\"1\" class=\"dataframe\">\n  <thead>\n    <tr style=\"text-align: right;\">\n      <th></th>\n      <th>userId</th>\n      <th>sessionId</th>\n      <th>itemInSession</th>\n      <th>artist</th>\n      <th>song</th>\n      <th>firstName</th>\n    </tr>\n  </thead>\n  <tbody>\n    <tr>\n      <th>0</th>\n      <td>15</td>\n      <td>818</td>\n      <td>38</td>\n      <td>Dee Dee Bridgewater</td>\n      <td>La Vie En Rose</td>\n      <td>Lily</td>\n    </tr>\n  </tbody>\n</table>\n</div>"
     },
     "metadata": {},
     "execution_count": 12
    }
   ],
   "source": [
    "df_by_user_session.head(n=1)"
   ]
  },
  {
   "cell_type": "code",
   "execution_count": 13,
   "metadata": {},
   "outputs": [],
   "source": [
    "#Datos para tabla song_by_title_table\n",
    "df_by_title = df_long_data[['song','userId','firstName','lastName']]\n",
    "df_by_title = df_by_title.replace('', np.nan).dropna(subset=['song','userId'])\n",
    "df_by_title = df_by_title.drop_duplicates(['song','userId'])\n",
    "df_by_title = df_by_title.astype(convert_dict)"
   ]
  },
  {
   "cell_type": "code",
   "execution_count": 14,
   "metadata": {},
   "outputs": [
    {
     "output_type": "execute_result",
     "data": {
      "text/plain": "             song  userId firstName lastName\n0  La Vie En Rose      15      Lily     Koch",
      "text/html": "<div>\n<style scoped>\n    .dataframe tbody tr th:only-of-type {\n        vertical-align: middle;\n    }\n\n    .dataframe tbody tr th {\n        vertical-align: top;\n    }\n\n    .dataframe thead th {\n        text-align: right;\n    }\n</style>\n<table border=\"1\" class=\"dataframe\">\n  <thead>\n    <tr style=\"text-align: right;\">\n      <th></th>\n      <th>song</th>\n      <th>userId</th>\n      <th>firstName</th>\n      <th>lastName</th>\n    </tr>\n  </thead>\n  <tbody>\n    <tr>\n      <th>0</th>\n      <td>La Vie En Rose</td>\n      <td>15</td>\n      <td>Lily</td>\n      <td>Koch</td>\n    </tr>\n  </tbody>\n</table>\n</div>"
     },
     "metadata": {},
     "execution_count": 14
    }
   ],
   "source": [
    "df_by_title.head(n=1)"
   ]
  },
  {
   "cell_type": "code",
   "execution_count": null,
   "metadata": {},
   "outputs": [],
   "source": [
    "logging.basicConfig(level=logging.INFO)"
   ]
  },
  {
   "cell_type": "code",
   "execution_count": null,
   "metadata": {},
   "outputs": [],
   "source": [
    "# Se crea la conexión con Cassandra\n",
    "session, cluster = cassandra_connection()"
   ]
  },
  {
   "cell_type": "code",
   "execution_count": null,
   "metadata": {},
   "outputs": [],
   "source": [
    "try:\n",
    "    # Se eliminan las tablas, si existen\n",
    "    for table_drop in drop_table_queries:\n",
    "        session.execute(table_drop)\n",
    "    # Se crean las tablas \n",
    "    for table_create in create_table_queries:\n",
    "        session.execute(table_create)\n",
    "    # Insertar valores en la tabla song_by_session\n",
    "    prepared = session.prepare(song_by_session_table_insert)\n",
    "    insert_row(df_by_session,prepared)\n",
    "    # Insertar valores en la tabla song_user_by_user_session\n",
    "    prepared = session.prepare(song_user_by_use_session_insert)\n",
    "    insert_row(df_by_user_session,prepared)\n",
    "    # Insertar valores en la tabla song_by_title\n",
    "    prepared = session.prepare(song_by_title_table_insert)\n",
    "    insert_row(df_by_title,prepared)\n",
    "except Exception as e:\n",
    "    print('The cassandra error: {}'.format(e))\n",
    "finally:\n",
    "    #Se cierra la conexión\n",
    "    session.shutdown()\n",
    "    cluster.shutdown()"
   ]
  }
 ]
}