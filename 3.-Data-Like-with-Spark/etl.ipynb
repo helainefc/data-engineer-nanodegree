{
 "cells": [
  {
   "cell_type": "code",
   "execution_count": 1,
   "metadata": {},
   "outputs": [],
   "source": [
    "import configparser\n",
    "from datetime import datetime\n",
    "import os\n",
    "from os import *\n",
    "from pyspark.sql import SparkSession\n",
    "from pyspark.sql.functions import *\n",
    "from pyspark.sql.types import TimestampType"
   ]
  },
  {
   "cell_type": "code",
   "execution_count": 2,
   "metadata": {},
   "outputs": [],
   "source": [
    "config = configparser.ConfigParser()\n",
    "config.read('dl.cfg')\n",
    "\n",
    "os.environ['AWS_ACCESS_KEY_ID']=config['AWS']['AWS_ACCESS_KEY_ID']\n",
    "os.environ['AWS_SECRET_ACCESS_KEY']=config['AWS']['AWS_SECRET_ACCESS_KEY']\n",
    ""
   ]
  },
  {
   "cell_type": "code",
   "execution_count": 3,
   "metadata": {},
   "outputs": [],
   "source": [
    "# Inicializar session en Spark\n",
    "spark = SparkSession \\\n",
    "    .builder \\\n",
    "    .config(\"spark.jars.packages\", \"org.apache.hadoop:hadoop-aws:2.7.0\") \\\n",
    "    .getOrCreate()"
   ]
  },
  {
   "cell_type": "code",
   "execution_count": 21,
   "metadata": {},
   "outputs": [],
   "source": [
    "# Obtener los archivos de S3 bucket\n",
    "song_data = \"s3a://udacity-dend/song_data/A/B/C/*.json\"\n",
    "log_data = \"s3a://udacity-dend/log_data/2018/11/*.json\"\n",
    "\n",
    "df_song = spark.read.json(song_data)\n",
    "df_long = spark.read.json(log_data)"
   ]
  },
  {
   "cell_type": "code",
   "execution_count": 22,
   "metadata": {},
   "outputs": [
    {
     "output_type": "stream",
     "name": "stdout",
     "text": "root\n |-- artist_id: string (nullable = true)\n |-- artist_latitude: double (nullable = true)\n |-- artist_location: string (nullable = true)\n |-- artist_longitude: double (nullable = true)\n |-- artist_name: string (nullable = true)\n |-- duration: double (nullable = true)\n |-- num_songs: long (nullable = true)\n |-- song_id: string (nullable = true)\n |-- title: string (nullable = true)\n |-- year: long (nullable = true)\n\n"
    }
   ],
   "source": [
    "df_song.printSchema()"
   ]
  },
  {
   "cell_type": "code",
   "execution_count": 23,
   "metadata": {},
   "outputs": [
    {
     "output_type": "stream",
     "name": "stdout",
     "text": "root\n |-- artist: string (nullable = true)\n |-- auth: string (nullable = true)\n |-- firstName: string (nullable = true)\n |-- gender: string (nullable = true)\n |-- itemInSession: long (nullable = true)\n |-- lastName: string (nullable = true)\n |-- length: double (nullable = true)\n |-- level: string (nullable = true)\n |-- location: string (nullable = true)\n |-- method: string (nullable = true)\n |-- page: string (nullable = true)\n |-- registration: double (nullable = true)\n |-- sessionId: long (nullable = true)\n |-- song: string (nullable = true)\n |-- status: long (nullable = true)\n |-- ts: long (nullable = true)\n |-- userAgent: string (nullable = true)\n |-- userId: string (nullable = true)\n\n"
    }
   ],
   "source": [
    "df_long.printSchema()"
   ]
  },
  {
   "cell_type": "code",
   "execution_count": 24,
   "metadata": {},
   "outputs": [
    {
     "output_type": "stream",
     "name": "stdout",
     "text": "+------------------+-----+------------------+----+--------+\n|           song_id|title|         artist_id|year|duration|\n+------------------+-----+------------------+----+--------+\n|SOQFYBD12AB0182188|Intro|ARAADXM1187FB3ECDB|1999|67.63057|\n+------------------+-----+------------------+----+--------+\nonly showing top 1 row\n\n"
    }
   ],
   "source": [
    "#Tabla SONG\n",
    "songs_table = df_song.select(\"song_id\", \"title\", \"artist_id\", \"year\", \"duration\").distinct()\n",
    "songs_table.show(1)"
   ]
  },
  {
   "cell_type": "code",
   "execution_count": 25,
   "metadata": {},
   "outputs": [
    {
     "output_type": "stream",
     "name": "stdout",
     "text": "+------------------+-----------+--------------+--------+---------+\n|         artist_id|       name|      location|latitude|longitude|\n+------------------+-----------+--------------+--------+---------+\n|ARLTWXK1187FB5A3F8|King Curtis|Fort Worth, TX|32.74863|-97.32925|\n+------------------+-----------+--------------+--------+---------+\nonly showing top 1 row\n\n"
    }
   ],
   "source": [
    "#Tabla ARTIST\n",
    "artists_table  = df_song.selectExpr(\"artist_id\", \"artist_name name\", \"artist_location location\",\"artist_latitude latitude\", \"artist_longitude longitude\")\n",
    "artists_table.show(1)"
   ]
  },
  {
   "cell_type": "code",
   "execution_count": 26,
   "metadata": {},
   "outputs": [],
   "source": [
    "#LONG\n",
    "df_long = df_long.filter(df_long.page == \"NextSong\")"
   ]
  },
  {
   "cell_type": "code",
   "execution_count": 27,
   "metadata": {},
   "outputs": [
    {
     "output_type": "stream",
     "name": "stdout",
     "text": "+-------+----------+---------+------+-----+\n|user_id|first_name|last_name|gender|level|\n+-------+----------+---------+------+-----+\n|     26|      Ryan|    Smith|     M| free|\n+-------+----------+---------+------+-----+\nonly showing top 1 row\n\n"
    }
   ],
   "source": [
    "#Tabla USER\n",
    "users_table = df_long.selectExpr(\"userId user_id\", \"firstName first_name\", \"lastName last_name\", \"gender\", \"level\").distinct()\n",
    "users_table.show(1)"
   ]
  },
  {
   "cell_type": "code",
   "execution_count": 28,
   "metadata": {},
   "outputs": [],
   "source": [
    "#Convertir ts a timeStamp\n",
    "get_datetime = udf(lambda x: datetime.fromtimestamp(x / 1000), TimestampType())\n",
    "df_long = df_long.withColumn(\"start_time\", get_datetime(df_long.ts))"
   ]
  },
  {
   "cell_type": "code",
   "execution_count": 30,
   "metadata": {},
   "outputs": [
    {
     "output_type": "execute_result",
     "data": {
      "text/plain": "DataFrame[start_time: timestamp]"
     },
     "metadata": {},
     "execution_count": 30
    }
   ],
   "source": [
    "#Seleccionar distintos ID\n",
    "table_time = df_long.select(\"start_time\").distinct()\n",
    "table_time"
   ]
  },
  {
   "cell_type": "code",
   "execution_count": 31,
   "metadata": {},
   "outputs": [],
   "source": [
    "#Table TIME\n",
    "table_time = table_time.withColumn(\"hour\", hour(col(\"start_time\"))).withColumn(\"day\", dayofmonth(col(\"start_time\"))).withColumn(\"week\", weekofyear(col(\"start_time\"))).withColumn(\"month\", month(col(\"start_time\"))).withColumn(\"year\", year(col(\"start_time\"))).withColumn(\"weekday\", dayofweek(col(\"start_time\")))"
   ]
  },
  {
   "cell_type": "code",
   "execution_count": 33,
   "metadata": {},
   "outputs": [
    {
     "output_type": "execute_result",
     "data": {
      "text/plain": "DataFrame[start_time: timestamp, hour: int, day: int, week: int, month: int, year: int, weekday: int]"
     },
     "metadata": {},
     "execution_count": 33
    }
   ],
   "source": [
    "table_time"
   ]
  },
  {
   "cell_type": "code",
   "execution_count": 34,
   "metadata": {},
   "outputs": [],
   "source": [
    "#Se realiza JOIN para obtener la tabla SONG_PLAY\n",
    "cond = [df_long.artist == df_song.artist_name,df_long.song == df_song.title]\n",
    "df_join = df_long.join(df_song, cond, \"inner\")"
   ]
  },
  {
   "cell_type": "code",
   "execution_count": 35,
   "metadata": {},
   "outputs": [],
   "source": [
    "#Se agrega Identificador a la tabla SONG_PLAY\n",
    "df_join = df_join.withColumn(\"songplay_id\", monotonically_increasing_id())"
   ]
  },
  {
   "cell_type": "code",
   "execution_count": 36,
   "metadata": {},
   "outputs": [
    {
     "output_type": "execute_result",
     "data": {
      "text/plain": "DataFrame[songplay_id: bigint, start_time: timestamp, user_id: string, level: string, song_id: string, artist_id: string, session_id: bigint, location: string, user_agent: string]"
     },
     "metadata": {},
     "execution_count": 36
    }
   ],
   "source": [
    "#Tabla SONG_TABLE\n",
    "song_play_table = df_join.selectExpr(\"songplay_id\",\"start_time\",\"userId user_id\",\"level\",\"song_id\",\"artist_id\",\"sessionId session_id\",\"location\",\"userAgent user_agent\")\n",
    "song_play_table"
   ]
  },
  {
   "cell_type": "code",
   "execution_count": 37,
   "metadata": {},
   "outputs": [],
   "source": [
    "#Se guaran las tablas\n",
    "path = \"s3a://helaine-data-lake/parquet_files/\"\n",
    "parquet = \"song_table.parquet\"\n",
    "songs_table.write.parquet(path+parquet,partitionBy = (\"year\", \"artist_id\"),mode = \"overwrite\")"
   ]
  },
  {
   "cell_type": "code",
   "execution_count": 42,
   "metadata": {},
   "outputs": [],
   "source": [
    "path_user = path + \"user_table.parquet\"\n",
    "path_time = path + \"time_table.parquet\"\n",
    "path_songPlay = path + \"songplay_table.parquet\""
   ]
  },
  {
   "cell_type": "code",
   "execution_count": 40,
   "metadata": {},
   "outputs": [],
   "source": [
    "users_table.write.parquet(path=path_user, mode = \"overwrite\" )"
   ]
  },
  {
   "cell_type": "code",
   "execution_count": null,
   "metadata": {},
   "outputs": [],
   "source": [
    "table_time.write.parquet(path=path_time,mode = \"overwrite\")"
   ]
  },
  {
   "cell_type": "code",
   "execution_count": null,
   "metadata": {},
   "outputs": [],
   "source": []
  }
 ],
 "metadata": {
  "language_info": {
   "name": "python",
   "codemirror_mode": {
    "name": "ipython",
    "version": 3
   },
   "version": "3.7.6-final"
  },
  "orig_nbformat": 2,
  "file_extension": ".py",
  "mimetype": "text/x-python",
  "name": "python",
  "npconvert_exporter": "python",
  "pygments_lexer": "ipython3",
  "version": 3,
  "kernelspec": {
   "name": "python3",
   "display_name": "Python 3"
  }
 },
 "nbformat": 4,
 "nbformat_minor": 2
}